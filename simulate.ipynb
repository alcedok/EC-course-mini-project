{
 "cells": [
  {
   "cell_type": "markdown",
   "metadata": {},
   "source": [
    "<div style=\"text-align: center;\">\n",
    "  <h1>Estimation and Classification Course: Mini-Project</h1>\n",
    "</div>\n",
    "\n",
    "<div style=\"text-align: center;\">\n",
    "<h5 style=\"display: inline;\">Authors: Kevin Alcedo & Dinis Miranda</h5>\n",
    "<div style=\"text-align: center;\">"
   ]
  },
  {
   "cell_type": "markdown",
   "metadata": {},
   "source": [
    "# Description\n",
    "\n",
    "We simulate a robot navigating a gridworld with obstacles and estimate the global (map) position from local (sensor) observations.\n",
    "\n",
    "# Approach\n",
    "- Gridworld: \n",
    "    - encapsulated as a Gym.Environment [1]\n",
    "    - generated with random obstacles\n",
    "    - corresponding transition and observation matrices are calculated\n",
    "    - state transitions are determinisitic, only free-cells (non-obstacles are valid)\n",
    "    - observations are deterministic (no sensor noise) \n",
    "- Robot motion:\n",
    "    - robot follows a uniform random policy over observable valid actions:\n",
    "    - i.e the robot only considers moving towards free-cells it observes. \n",
    "    - since the robot has limited sensing (NSEW) it may consider an invalid action (all eight neighbors including 'stay in place')\n",
    "    - if an invalid action is taken, the environment prevents the robot from moving; i.e the robot stays in place\n",
    "- Robot perception:\n",
    "    - robot perceives obstacles in NSEW \n",
    "    - observations are modeled as a binary vector\n",
    "- Self-localization:\n",
    "    - We model the robot dynamics as an HMM\n",
    "    - We estimate the probability distribution of the robot on the grid at time $t$ using the backward-forward algorithm\n",
    "    - At every step we keep track of the history of observations and recompute the most-likely state\n",
    "- Visualization\n",
    "    - On the left: \n",
    "        - grid with robot ground-truth position\n",
    "        - probability distribution superimposed over the grid-cells\n",
    "    - On the right:\n",
    "        - egocentric observations"
   ]
  },
  {
   "cell_type": "markdown",
   "metadata": {},
   "source": []
  },
  {
   "cell_type": "markdown",
   "metadata": {},
   "source": [
    "# References\n",
    "- [Farama Gym Env](https://gymnasium.farama.org/)\n"
   ]
  }
 ],
 "metadata": {
  "kernelspec": {
   "display_name": "research-base",
   "language": "python",
   "name": "python3"
  },
  "language_info": {
   "name": "python",
   "version": "3.10.13"
  }
 },
 "nbformat": 4,
 "nbformat_minor": 2
}
